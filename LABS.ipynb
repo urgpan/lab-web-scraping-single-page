{
 "cells": [
  {
   "cell_type": "code",
   "execution_count": 44,
   "metadata": {},
   "outputs": [],
   "source": [
    "import requests\n",
    "import pandas as pd\n",
    "from bs4 import BeautifulSoup"
   ]
  },
  {
   "cell_type": "code",
   "execution_count": 45,
   "metadata": {},
   "outputs": [],
   "source": [
    "url = \"https://www.billboard.com/charts/hot-100\""
   ]
  },
  {
   "cell_type": "code",
   "execution_count": 46,
   "metadata": {},
   "outputs": [],
   "source": [
    "reponse = requests.get(url)"
   ]
  },
  {
   "cell_type": "code",
   "execution_count": 47,
   "metadata": {},
   "outputs": [],
   "source": [
    "soup = BeautifulSoup(reponse.content,'html.parser')"
   ]
  },
  {
   "cell_type": "code",
   "execution_count": 48,
   "metadata": {},
   "outputs": [],
   "source": [
    "allList = soup.findAll(\"span\",{\"class\": \"chart-element__information\"})"
   ]
  },
  {
   "cell_type": "code",
   "execution_count": 49,
   "metadata": {},
   "outputs": [],
   "source": [
    "allSongs = soup.findAll(\"span\",{\"class\":\"chart-element__information__song text--truncate color--primary\"})"
   ]
  },
  {
   "cell_type": "code",
   "execution_count": 50,
   "metadata": {},
   "outputs": [],
   "source": [
    "allGroups = soup.findAll(\"span\",{\"class\":\"chart-element__information__artist text--truncate color--secondary\"})"
   ]
  },
  {
   "cell_type": "code",
   "execution_count": 67,
   "metadata": {},
   "outputs": [],
   "source": [
    "allSongs_list = []\n",
    "for i in range(0,len(allSongs)):\n",
    "    allSongs_list.append(allSongs[i].get_text().replace(\"[\",\"\").replace(\"]\",\"\"))"
   ]
  },
  {
   "cell_type": "code",
   "execution_count": 68,
   "metadata": {},
   "outputs": [],
   "source": [
    "allGroups_list = []\n",
    "for i in range(0,len(allGroups)):\n",
    "    allGroups_list.append(allGroups[i].get_text().replace(\"[\",\"\").replace(\"]\",\"\"))"
   ]
  },
  {
   "cell_type": "code",
   "execution_count": 69,
   "metadata": {},
   "outputs": [],
   "source": [
    "dataf = pd.DataFrame(columns = ['song','group'])"
   ]
  },
  {
   "cell_type": "code",
   "execution_count": 72,
   "metadata": {},
   "outputs": [],
   "source": [
    "dataf.song = allSongs\n",
    "dataf.group = allGroups"
   ]
  },
  {
   "cell_type": "code",
   "execution_count": 79,
   "metadata": {},
   "outputs": [],
   "source": [
    "#dataf['song'] = dataf['song'].apply(lambda x: x.replace(\"[\",\"\").replace(\"]\",\"\"))\n",
    "#dataf['group'] = dataf['group'].apply(lambda x: x.replace(\"[\",\"\").replace(\"]\",\"\"))"
   ]
  },
  {
   "cell_type": "code",
   "execution_count": 74,
   "metadata": {},
   "outputs": [
    {
     "data": {
      "text/html": [
       "<div>\n",
       "<style scoped>\n",
       "    .dataframe tbody tr th:only-of-type {\n",
       "        vertical-align: middle;\n",
       "    }\n",
       "\n",
       "    .dataframe tbody tr th {\n",
       "        vertical-align: top;\n",
       "    }\n",
       "\n",
       "    .dataframe thead th {\n",
       "        text-align: right;\n",
       "    }\n",
       "</style>\n",
       "<table border=\"1\" class=\"dataframe\">\n",
       "  <thead>\n",
       "    <tr style=\"text-align: right;\">\n",
       "      <th></th>\n",
       "      <th>song</th>\n",
       "      <th>group</th>\n",
       "    </tr>\n",
       "  </thead>\n",
       "  <tbody>\n",
       "    <tr>\n",
       "      <th>0</th>\n",
       "      <td>[Drivers License]</td>\n",
       "      <td>[Olivia Rodrigo]</td>\n",
       "    </tr>\n",
       "    <tr>\n",
       "      <th>1</th>\n",
       "      <td>[Up]</td>\n",
       "      <td>[Cardi B]</td>\n",
       "    </tr>\n",
       "    <tr>\n",
       "      <th>2</th>\n",
       "      <td>[Blinding Lights]</td>\n",
       "      <td>[The Weeknd]</td>\n",
       "    </tr>\n",
       "    <tr>\n",
       "      <th>3</th>\n",
       "      <td>[Save Your Tears]</td>\n",
       "      <td>[The Weeknd]</td>\n",
       "    </tr>\n",
       "    <tr>\n",
       "      <th>4</th>\n",
       "      <td>[Mood]</td>\n",
       "      <td>[24kGoldn Featuring iann dior]</td>\n",
       "    </tr>\n",
       "    <tr>\n",
       "      <th>...</th>\n",
       "      <td>...</td>\n",
       "      <td>...</td>\n",
       "    </tr>\n",
       "    <tr>\n",
       "      <th>95</th>\n",
       "      <td>[Almost Maybes]</td>\n",
       "      <td>[Jordan Davis]</td>\n",
       "    </tr>\n",
       "    <tr>\n",
       "      <th>96</th>\n",
       "      <td>[Masterpiece]</td>\n",
       "      <td>[DaBaby]</td>\n",
       "    </tr>\n",
       "    <tr>\n",
       "      <th>97</th>\n",
       "      <td>[Prisoner]</td>\n",
       "      <td>[Miley Cyrus Featuring Dua Lipa]</td>\n",
       "    </tr>\n",
       "    <tr>\n",
       "      <th>98</th>\n",
       "      <td>[Skin]</td>\n",
       "      <td>[Sabrina Carpenter]</td>\n",
       "    </tr>\n",
       "    <tr>\n",
       "      <th>99</th>\n",
       "      <td>[Quicksand]</td>\n",
       "      <td>[Morray]</td>\n",
       "    </tr>\n",
       "  </tbody>\n",
       "</table>\n",
       "<p>100 rows × 2 columns</p>\n",
       "</div>"
      ],
      "text/plain": [
       "                 song                             group\n",
       "0   [Drivers License]                  [Olivia Rodrigo]\n",
       "1                [Up]                         [Cardi B]\n",
       "2   [Blinding Lights]                      [The Weeknd]\n",
       "3   [Save Your Tears]                      [The Weeknd]\n",
       "4              [Mood]    [24kGoldn Featuring iann dior]\n",
       "..                ...                               ...\n",
       "95    [Almost Maybes]                    [Jordan Davis]\n",
       "96      [Masterpiece]                          [DaBaby]\n",
       "97         [Prisoner]  [Miley Cyrus Featuring Dua Lipa]\n",
       "98             [Skin]               [Sabrina Carpenter]\n",
       "99        [Quicksand]                          [Morray]\n",
       "\n",
       "[100 rows x 2 columns]"
      ]
     },
     "execution_count": 74,
     "metadata": {},
     "output_type": "execute_result"
    }
   ],
   "source": [
    "dataf.head(100)"
   ]
  },
  {
   "cell_type": "markdown",
   "metadata": {},
   "source": [
    "# Retrieve an arbitrary Wikipedia page of \"Python\" and create a list of links on that page: url ='https://en.wikipedia.org/wiki/Python'"
   ]
  },
  {
   "cell_type": "code",
   "execution_count": 184,
   "metadata": {},
   "outputs": [],
   "source": [
    "url = \"https://en.wikipedia.org/wiki/Python\""
   ]
  },
  {
   "cell_type": "code",
   "execution_count": 185,
   "metadata": {},
   "outputs": [],
   "source": [
    "reponse = requests.get(url)"
   ]
  },
  {
   "cell_type": "code",
   "execution_count": 186,
   "metadata": {},
   "outputs": [],
   "source": [
    "soup = BeautifulSoup(reponse.content,'html.parser')"
   ]
  },
  {
   "cell_type": "code",
   "execution_count": 200,
   "metadata": {},
   "outputs": [],
   "source": [
    "elems = soup.select(\"#mw-content-text > div.mw-parser-output > ul:nth-child(11) > li > a\",  href = True)"
   ]
  },
  {
   "cell_type": "code",
   "execution_count": 203,
   "metadata": {},
   "outputs": [
    {
     "name": "stdout",
     "output_type": "stream",
     "text": [
      "https://en.wikipedia.org/wiki/wiki/Python_(Efteling)\n",
      "https://en.wikipedia.org/wiki/wiki/Python_(Busch_Gardens_Tampa_Bay)\n",
      "https://en.wikipedia.org/wiki/wiki/Python_(Coney_Island,_Cincinnati,_Ohio)\n"
     ]
    }
   ],
   "source": [
    "for sub in subs:\n",
    "    print(\"https://en.wikipedia.org/wiki\" + str(sub['href']))"
   ]
  },
  {
   "cell_type": "code",
   "execution_count": null,
   "metadata": {},
   "outputs": [],
   "source": []
  },
  {
   "cell_type": "code",
   "execution_count": 207,
   "metadata": {},
   "outputs": [],
   "source": [
    "url = \"https://www.emsc-csem.org/Earthquake\""
   ]
  },
  {
   "cell_type": "code",
   "execution_count": 208,
   "metadata": {},
   "outputs": [],
   "source": [
    "reponse = requests.get(url)"
   ]
  },
  {
   "cell_type": "code",
   "execution_count": 209,
   "metadata": {},
   "outputs": [],
   "source": [
    "soup = BeautifulSoup(reponse.content,'html.parser')"
   ]
  },
  {
   "cell_type": "code",
   "execution_count": 222,
   "metadata": {},
   "outputs": [
    {
     "data": {
      "text/plain": [
       "[<tr class=\"ligne1 normal\" id=\"951669\" onclick=\"go_details(event,951669);\"><td class=\"tabev0\"></td><td class=\"tabev0\"></td><td class=\"tabev0\"></td><td class=\"tabev6\"><b><i style=\"display:none;\">earthquake</i><a href=\"/Earthquake/earthquake.php?id=951669\">2021-02-22   15:44:22.0</a></b><i class=\"ago\" id=\"ago0\">19min ago</i></td><td class=\"tabev1\">27.42 </td><td class=\"tabev2\">N  </td><td class=\"tabev1\">92.65 </td><td class=\"tabev2\">E  </td><td class=\"tabev3\">10</td><td class=\"tabev5\" id=\"magtyp0\"> M</td><td class=\"tabev2\">2.6</td><td class=\"tb_region\" id=\"reg0\"> ARUNACHAL PRADESH, INDIA</td><td class=\"comment updatetimeno\" id=\"upd0\" style=\"text-align:right;\">2021-02-22 16:00</td></tr>,\n",
       " <tr class=\"ligne2 normal\" id=\"951666\" onclick=\"go_details(event,951666);\"><td class=\"tabev0\"></td><td class=\"tabev0\"></td><td class=\"tabev0\"></td><td class=\"tabev6\"><b><i style=\"display:none;\">earthquake</i><a href=\"/Earthquake/earthquake.php?id=951666\">2021-02-22   15:30:58.8</a></b><i class=\"ago\" id=\"ago1\">32min ago</i></td><td class=\"tabev1\">19.18 </td><td class=\"tabev2\">N  </td><td class=\"tabev1\">155.46 </td><td class=\"tabev2\">W  </td><td class=\"tabev3\">35</td><td class=\"tabev5\" id=\"magtyp1\">Md</td><td class=\"tabev2\">2.5</td><td class=\"tb_region\" id=\"reg1\"> ISLAND OF HAWAII, HAWAII</td><td class=\"comment updatetimeno\" id=\"upd1\" style=\"text-align:right;\">2021-02-22 15:34</td></tr>,\n",
       " <tr class=\"ligne1 normal\" id=\"951661\" onclick=\"go_details(event,951661);\"><td class=\"tabev0\"></td><td class=\"tabev0\"></td><td class=\"tabev0\"></td><td class=\"tabev6\"><b><i style=\"display:none;\">earthquake</i><a href=\"/Earthquake/earthquake.php?id=951661\">2021-02-22   15:21:30.0</a></b><i class=\"ago\" id=\"ago2\">42min ago</i></td><td class=\"tabev1\">15.36 </td><td class=\"tabev2\">S  </td><td class=\"tabev1\">75.83 </td><td class=\"tabev2\">W  </td><td class=\"tabev3\">43</td><td class=\"tabev5\" id=\"magtyp2\"> M</td><td class=\"tabev2\">4.6</td><td class=\"tb_region\" id=\"reg2\"> NEAR COAST OF CENTRAL PERU</td><td class=\"comment updatetimeno\" id=\"upd2\" style=\"text-align:right;\">2021-02-22 15:25</td></tr>,\n",
       " <tr class=\"ligne2 normal\" id=\"951665\" onclick=\"go_details(event,951665);\"><td class=\"tabev0\"></td><td class=\"tabev0\"></td><td class=\"tabev0\"></td><td class=\"tabev6\"><b><i style=\"display:none;\">earthquake</i><a href=\"/Earthquake/earthquake.php?id=951665\">2021-02-22   15:21:22.9</a></b><i class=\"ago\" id=\"ago3\">42min ago</i></td><td class=\"tabev1\">14.41 </td><td class=\"tabev2\">N  </td><td class=\"tabev1\">93.13 </td><td class=\"tabev2\">W  </td><td class=\"tabev3\">25</td><td class=\"tabev5\" id=\"magtyp3\">Mw</td><td class=\"tabev2\">5.2</td><td class=\"tb_region\" id=\"reg3\"> OFFSHORE CHIAPAS, MEXICO</td><td class=\"comment updatetimeno\" id=\"upd3\" style=\"text-align:right;\">2021-02-22 15:39</td></tr>,\n",
       " <tr class=\"ligne1 normal\" id=\"951660\" onclick=\"go_details(event,951660);\"><td class=\"tabev0\" style=\"text-align:center;\"><a href=\"https://www.emsc-csem.org/Earthquake/Testimonies/comments.php?id=951660\" onmouseout=\"info_b2('notshow','');\" onmouseover=\"info_b2('show','See the &lt;b&gt;testimony&lt;/b&gt; for this earthquake');\"><span class=\"\" style=\"vertical-align:middle;\">1</span></a></td><td class=\"tabev0\"></td><td class=\"tabev0\"><span class=\"intensity\" onclick=\"go_details(event,null,'https://www.emsc-csem.org/Earthquake/popup_intensmap.php?id=951660&amp;f=/FELTREPORTS/95/951660/IntensityMap.png');\" onmouseout=\"info_b2('notshow','');\" onmouseover=\"info_b2('show','See the &lt;b&gt; Intensity map&lt;/b&gt;');\" style=\"background-color:#FFFFFF;\">F</span></td><td class=\"tabev6\"><b><i style=\"display:none;\">earthquake</i><a href=\"/Earthquake/earthquake.php?id=951660\">2021-02-22   15:06:35.9</a></b><i class=\"ago\" id=\"ago4\">57min ago</i></td><td class=\"tabev1\">19.84 </td><td class=\"tabev2\">N  </td><td class=\"tabev1\">71.05 </td><td class=\"tabev2\">W  </td><td class=\"tabev3\">10</td><td class=\"tabev5\" id=\"magtyp4\">mb</td><td class=\"tabev2\">4.4</td><td class=\"tb_region\" id=\"reg4\"> DOMINICAN REPUBLIC</td><td class=\"comment updatetimeno\" id=\"upd4\" style=\"text-align:right;\">2021-02-22 15:54</td></tr>,\n",
       " <tr class=\"ligne2 normal\" id=\"951668\" onclick=\"go_details(event,951668);\"><td class=\"tabev0\"></td><td class=\"tabev0\"></td><td class=\"tabev0\"></td><td class=\"tabev6\"><b><i style=\"display:none;\">earthquake</i><a href=\"/Earthquake/earthquake.php?id=951668\">2021-02-22   14:57:29.2</a></b><i class=\"ago\" id=\"ago5\">1hr 06min ago</i></td><td class=\"tabev1\">41.47 </td><td class=\"tabev2\">N  </td><td class=\"tabev1\">83.42 </td><td class=\"tabev2\">E  </td><td class=\"tabev3\">6</td><td class=\"tabev5\" id=\"magtyp5\">mb</td><td class=\"tabev2\">4.2</td><td class=\"tb_region\" id=\"reg5\"> SOUTHERN XINJIANG, CHINA</td><td class=\"comment updatetimeno\" id=\"upd5\" style=\"text-align:right;\">2021-02-22 15:51</td></tr>,\n",
       " <tr class=\"ligne1 normal\" id=\"951656\" onclick=\"go_details(event,951656);\"><td class=\"tabev0\" style=\"text-align:center;\"><a href=\"https://www.emsc-csem.org/Earthquake/Testimonies/comments.php?id=951656\" onmouseout=\"info_b2('notshow','');\" onmouseover=\"info_b2('show','See the &lt;b&gt;7 testimonies&lt;/b&gt; for this earthquake');\"><span class=\"\" style=\"vertical-align:middle;\">7</span></a></td><td class=\"tabev0\"></td><td class=\"tabev0\"><span class=\"intensity\" onclick=\"go_details(event,null,'https://www.emsc-csem.org/Earthquake/popup_intensmap.php?id=951656&amp;f=/FELTREPORTS/95/951656/IntensityMap.png');\" onmouseout=\"info_b2('notshow','');\" onmouseover=\"info_b2('show','See the &lt;b&gt; Intensity map&lt;/b&gt;');\" style=\"background-color:#CC99FF;\">II</span></td><td class=\"tabev6\"><b><i style=\"display:none;\">earthquake</i><a href=\"/Earthquake/earthquake.php?id=951656\">2021-02-22   14:36:35.0</a></b><i class=\"ago\" id=\"ago6\">1hr 27min ago</i></td><td class=\"tabev1\">45.60 </td><td class=\"tabev2\">N  </td><td class=\"tabev1\">15.95 </td><td class=\"tabev2\">E  </td><td class=\"tabev3\">10</td><td class=\"tabev5\" id=\"magtyp6\">ML</td><td class=\"tabev2\">1.9</td><td class=\"tb_region\" id=\"reg6\"> CROATIA</td><td class=\"comment updatetimeno\" id=\"upd6\" style=\"text-align:right;\">2021-02-22 14:39</td></tr>,\n",
       " <tr class=\"ligne2 normal\" id=\"951657\" onclick=\"go_details(event,951657);\"><td class=\"tabev0\"></td><td class=\"tabev0\"></td><td class=\"tabev0\"></td><td class=\"tabev6\"><b><i style=\"display:none;\">earthquake</i><a href=\"/Earthquake/earthquake.php?id=951657\">2021-02-22   14:34:14.0</a></b><i class=\"ago\" id=\"ago7\">1hr 29min ago</i></td><td class=\"tabev1\">9.85 </td><td class=\"tabev2\">S  </td><td class=\"tabev1\">120.49 </td><td class=\"tabev2\">E  </td><td class=\"tabev3\">47</td><td class=\"tabev5\" id=\"magtyp7\"> M</td><td class=\"tabev2\">2.9</td><td class=\"tb_region\" id=\"reg7\"> SUMBA REGION, INDONESIA</td><td class=\"comment updatetimeno\" id=\"upd7\" style=\"text-align:right;\">2021-02-22 14:40</td></tr>,\n",
       " <tr class=\"ligne1 normal\" id=\"951658\" onclick=\"go_details(event,951658);\"><td class=\"tabev0\"></td><td class=\"tabev0\"></td><td class=\"tabev0\"></td><td class=\"tabev6\"><b><i style=\"display:none;\">earthquake</i><a href=\"/Earthquake/earthquake.php?id=951658\">2021-02-22   14:31:27.0</a></b><i class=\"ago\" id=\"ago8\">1hr 32min ago</i></td><td class=\"tabev1\">4.52 </td><td class=\"tabev2\">N  </td><td class=\"tabev1\">127.34 </td><td class=\"tabev2\">E  </td><td class=\"tabev3\">157</td><td class=\"tabev5\" id=\"magtyp8\"> M</td><td class=\"tabev2\">4.4</td><td class=\"tb_region\" id=\"reg8\"> KEPULAUAN TALAUD, INDONESIA</td><td class=\"comment updatetimeno\" id=\"upd8\" style=\"text-align:right;\">2021-02-22 14:40</td></tr>,\n",
       " <tr class=\"ligne2 normal\" id=\"951653\" onclick=\"go_details(event,951653);\"><td class=\"tabev0\"></td><td class=\"tabev0\"></td><td class=\"tabev0\"></td><td class=\"tabev6\"><b><i style=\"display:none;\">earthquake</i><a href=\"/Earthquake/earthquake.php?id=951653\">2021-02-22   14:09:03.0</a></b><i class=\"ago\" id=\"ago9\">1hr 54min ago</i></td><td class=\"tabev1\">15.54 </td><td class=\"tabev2\">N  </td><td class=\"tabev1\">96.80 </td><td class=\"tabev2\">W  </td><td class=\"tabev3\">14</td><td class=\"tabev5\" id=\"magtyp9\"> M</td><td class=\"tabev2\">4.1</td><td class=\"tb_region\" id=\"reg9\"> OFFSHORE OAXACA, MEXICO</td><td class=\"comment updatetimeno\" id=\"upd9\" style=\"text-align:right;\">2021-02-22 14:25</td></tr>,\n",
       " <tr class=\"ligne1 normal\" id=\"951651\" onclick=\"go_details(event,951651);\"><td class=\"tabev0\"></td><td class=\"tabev0\"></td><td class=\"tabev0\"></td><td class=\"tabev6\"><b><i style=\"display:none;\">earthquake</i><a href=\"/Earthquake/earthquake.php?id=951651\">2021-02-22   14:07:28.4</a></b><i class=\"ago\" id=\"ago10\">1hr 56min ago</i></td><td class=\"tabev1\">37.21 </td><td class=\"tabev2\">N  </td><td class=\"tabev1\">3.69 </td><td class=\"tabev2\">W  </td><td class=\"tabev3\">7</td><td class=\"tabev5\" id=\"magtyp10\">ML</td><td class=\"tabev2\">1.5</td><td class=\"tb_region\" id=\"reg10\"> SPAIN</td><td class=\"comment updatetimeno\" id=\"upd10\" style=\"text-align:right;\">2021-02-22 14:13</td></tr>,\n",
       " <tr class=\"ligne2 normal\" id=\"951652\" onclick=\"go_details(event,951652);\"><td class=\"tabev0\"></td><td class=\"tabev0\"></td><td class=\"tabev0\"></td><td class=\"tabev6\"><b><i style=\"display:none;\">earthquake</i><a href=\"/Earthquake/earthquake.php?id=951652\">2021-02-22   14:05:26.7</a></b><i class=\"ago\" id=\"ago11\">1hr 58min ago</i></td><td class=\"tabev1\">36.49 </td><td class=\"tabev2\">N  </td><td class=\"tabev1\">28.86 </td><td class=\"tabev2\">E  </td><td class=\"tabev3\">7</td><td class=\"tabev5\" id=\"magtyp11\">ML</td><td class=\"tabev2\">2.3</td><td class=\"tb_region\" id=\"reg11\"> DODECANESE IS.-TURKEY BORDER REG</td><td class=\"comment updatetimeno\" id=\"upd11\" style=\"text-align:right;\">2021-02-22 14:23</td></tr>,\n",
       " <tr class=\"ligne1 normal\" id=\"951633\" onclick=\"go_details(event,951633);\"><td class=\"tabev0\" style=\"text-align:center;\"><a href=\"https://www.emsc-csem.org/Earthquake/Testimonies/comments.php?id=951633\" onmouseout=\"info_b2('notshow','');\" onmouseover=\"info_b2('show','See the &lt;b&gt;testimony&lt;/b&gt; for this earthquake');\"><span class=\"\" style=\"vertical-align:middle;\">1</span></a></td><td class=\"tabev0\"></td><td class=\"tabev0\"><span class=\"intensity\" onclick=\"go_details(event,null,'https://www.emsc-csem.org/Earthquake/popup_intensmap.php?id=951633&amp;f=/FELTREPORTS/95/951633/IntensityMap.png');\" onmouseout=\"info_b2('notshow','');\" onmouseover=\"info_b2('show','See the &lt;b&gt; Intensity map&lt;/b&gt;');\" style=\"background-color:#FFFFFF;\">F</span></td><td class=\"tabev6\"><b><i style=\"display:none;\">earthquake</i><a href=\"/Earthquake/earthquake.php?id=951633\">2021-02-22   13:54:54.0</a></b><i class=\"ago\" id=\"ago12\">2hr 09min ago</i></td><td class=\"tabev1\">36.53 </td><td class=\"tabev2\">N  </td><td class=\"tabev1\">28.89 </td><td class=\"tabev2\">E  </td><td class=\"tabev3\">10</td><td class=\"tabev5\" id=\"magtyp12\">ML</td><td class=\"tabev2\">3.1</td><td class=\"tb_region\" id=\"reg12\"> DODECANESE IS.-TURKEY BORDER REG</td><td class=\"comment updatetimeno\" id=\"upd12\" style=\"text-align:right;\">2021-02-22 15:36</td></tr>,\n",
       " <tr class=\"ligne2 normal\" id=\"951659\" onclick=\"go_details(event,951659);\"><td class=\"tabev0\"></td><td class=\"tabev0\"></td><td class=\"tabev0\"></td><td class=\"tabev6\"><b><i style=\"display:none;\">earthquake</i><a href=\"/Earthquake/earthquake.php?id=951659\">2021-02-22   13:54:30.6</a></b><i class=\"ago\" id=\"ago13\">2hr 09min ago</i></td><td class=\"tabev1\">47.73 </td><td class=\"tabev2\">N  </td><td class=\"tabev1\">128.58 </td><td class=\"tabev2\">W  </td><td class=\"tabev3\">10</td><td class=\"tabev5\" id=\"magtyp13\">mb</td><td class=\"tabev2\">4.5</td><td class=\"tb_region\" id=\"reg13\"> OFF COAST OF WASHINGTON</td><td class=\"comment updatetimeno\" id=\"upd13\" style=\"text-align:right;\">2021-02-22 15:07</td></tr>,\n",
       " <tr class=\"ligne1 normal\" id=\"951630\" onclick=\"go_details(event,951630);\"><td class=\"tabev0\"></td><td class=\"tabev0\"></td><td class=\"tabev0\"></td><td class=\"tabev6\"><b><i style=\"display:none;\">earthquake</i><a href=\"/Earthquake/earthquake.php?id=951630\">2021-02-22   13:50:01.6</a></b><i class=\"ago\" id=\"ago14\">2hr 13min ago</i></td><td class=\"tabev1\">34.40 </td><td class=\"tabev2\">N  </td><td class=\"tabev1\">97.41 </td><td class=\"tabev2\">W  </td><td class=\"tabev3\">4</td><td class=\"tabev5\" id=\"magtyp14\">ML</td><td class=\"tabev2\">2.2</td><td class=\"tb_region\" id=\"reg14\"> OKLAHOMA</td><td class=\"comment updatetimeno\" id=\"upd14\" style=\"text-align:right;\">2021-02-22 14:09</td></tr>,\n",
       " <tr class=\"ligne2 normal\" id=\"951631\" onclick=\"go_details(event,951631);\"><td class=\"tabev0\"></td><td class=\"tabev0\"></td><td class=\"tabev0\"></td><td class=\"tabev6\"><b><i style=\"display:none;\">earthquake</i><a href=\"/Earthquake/earthquake.php?id=951631\">2021-02-22   13:44:03.0</a></b><i class=\"ago\" id=\"ago15\">2hr 19min ago</i></td><td class=\"tabev1\">8.06 </td><td class=\"tabev2\">S  </td><td class=\"tabev1\">117.86 </td><td class=\"tabev2\">E  </td><td class=\"tabev3\">21</td><td class=\"tabev5\" id=\"magtyp15\"> M</td><td class=\"tabev2\">2.7</td><td class=\"tb_region\" id=\"reg15\"> SUMBAWA REGION, INDONESIA</td><td class=\"comment updatetimeno\" id=\"upd15\" style=\"text-align:right;\">2021-02-22 13:55</td></tr>,\n",
       " <tr class=\"ligne1 normal\" id=\"951634\" onclick=\"go_details(event,951634);\"><td class=\"tabev0\"></td><td class=\"tabev0\"></td><td class=\"tabev0\"></td><td class=\"tabev6\"><b><i style=\"display:none;\">earthquake</i><a href=\"/Earthquake/earthquake.php?id=951634\">2021-02-22   13:41:05.6</a></b><i class=\"ago\" id=\"ago16\">2hr 22min ago</i></td><td class=\"tabev1\">37.80 </td><td class=\"tabev2\">N  </td><td class=\"tabev1\">26.99 </td><td class=\"tabev2\">E  </td><td class=\"tabev3\">7</td><td class=\"tabev5\" id=\"magtyp16\">ML</td><td class=\"tabev2\">2.0</td><td class=\"tb_region\" id=\"reg16\"> DODECANESE ISLANDS, GREECE</td><td class=\"comment updatetimeno\" id=\"upd16\" style=\"text-align:right;\">2021-02-22 13:59</td></tr>,\n",
       " <tr class=\"ligne2 normal\" id=\"951627\" onclick=\"go_details(event,951627);\"><td class=\"tabev0\"></td><td class=\"tabev0\"></td><td class=\"tabev0\"></td><td class=\"tabev6\"><b><i style=\"display:none;\">earthquake</i><a href=\"/Earthquake/earthquake.php?id=951627\">2021-02-22   13:37:20.9</a></b><i class=\"ago\" id=\"ago17\">2hr 26min ago</i></td><td class=\"tabev1\">62.88 </td><td class=\"tabev2\">N  </td><td class=\"tabev1\">149.98 </td><td class=\"tabev2\">W  </td><td class=\"tabev3\">78</td><td class=\"tabev5\" id=\"magtyp17\">mb</td><td class=\"tabev2\">3.8</td><td class=\"tb_region\" id=\"reg17\"> CENTRAL ALASKA</td><td class=\"comment updatetimeno\" id=\"upd17\" style=\"text-align:right;\">2021-02-22 14:32</td></tr>,\n",
       " <tr class=\"ligne1 normal\" id=\"951628\" onclick=\"go_details(event,951628);\"><td class=\"tabev0\" style=\"text-align:center;\"><a href=\"https://www.emsc-csem.org/Earthquake/Testimonies/comments.php?id=951628\" onmouseout=\"info_b2('notshow','');\" onmouseover=\"info_b2('show','See the &lt;b&gt;testimony&lt;/b&gt; for this earthquake');\"><span class=\"\" style=\"vertical-align:middle;\">1</span></a></td><td class=\"tabev0\"></td><td class=\"tabev0\"><span class=\"intensity\" onclick=\"go_details(event,null,'https://www.emsc-csem.org/Earthquake/popup_intensmap.php?id=951628&amp;f=/FELTREPORTS/95/951628/IntensityMap.png');\" onmouseout=\"info_b2('notshow','');\" onmouseover=\"info_b2('show','See the &lt;b&gt; Intensity map&lt;/b&gt;');\" style=\"background-color:#FFFFFF;\">F</span></td><td class=\"tabev6\"><b><i style=\"display:none;\">earthquake</i><a href=\"/Earthquake/earthquake.php?id=951628\">2021-02-22   13:30:07.3</a></b><i class=\"ago\" id=\"ago18\">2hr 33min ago</i></td><td class=\"tabev1\">45.78 </td><td class=\"tabev2\">N  </td><td class=\"tabev1\">10.99 </td><td class=\"tabev2\">E  </td><td class=\"tabev3\">13</td><td class=\"tabev5\" id=\"magtyp18\">ML</td><td class=\"tabev2\">2.3</td><td class=\"tb_region\" id=\"reg18\"> NORTHERN ITALY</td><td class=\"comment updatetimeno\" id=\"upd18\" style=\"text-align:right;\">2021-02-22 14:47</td></tr>,\n",
       " <tr class=\"ligne2 normal\" id=\"951626\" onclick=\"go_details(event,951626);\"><td class=\"tabev0\"></td><td class=\"tabev0\"></td><td class=\"tabev0\"></td><td class=\"tabev6\"><b><i style=\"display:none;\">earthquake</i><a href=\"/Earthquake/earthquake.php?id=951626\">2021-02-22   13:24:14.6</a></b><i class=\"ago\" id=\"ago19\">2hr 39min ago</i></td><td class=\"tabev1\">15.11 </td><td class=\"tabev2\">S  </td><td class=\"tabev1\">173.25 </td><td class=\"tabev2\">W  </td><td class=\"tabev3\">10</td><td class=\"tabev5\" id=\"magtyp19\">Mw</td><td class=\"tabev2\">4.9</td><td class=\"tb_region\" id=\"reg19\"> TONGA</td><td class=\"comment updatetimeno\" id=\"upd19\" style=\"text-align:right;\">2021-02-22 14:46</td></tr>,\n",
       " <tr class=\"ligne1 normal\" id=\"951629\" onclick=\"go_details(event,951629);\"><td class=\"tabev0\"></td><td class=\"tabev0\"></td><td class=\"tabev0\"></td><td class=\"tabev6\"><b><i style=\"display:none;\">earthquake</i><a href=\"/Earthquake/earthquake.php?id=951629\">2021-02-22   13:21:56.0</a></b><i class=\"ago\" id=\"ago20\">2hr 42min ago</i></td><td class=\"tabev1\">8.47 </td><td class=\"tabev2\">S  </td><td class=\"tabev1\">108.90 </td><td class=\"tabev2\">E  </td><td class=\"tabev3\">67</td><td class=\"tabev5\" id=\"magtyp20\"> M</td><td class=\"tabev2\">3.0</td><td class=\"tb_region\" id=\"reg20\"> JAVA, INDONESIA</td><td class=\"comment updatetimeno\" id=\"upd20\" style=\"text-align:right;\">2021-02-22 13:50</td></tr>,\n",
       " <tr class=\"ligne2 normal\" id=\"951620\" onclick=\"go_details(event,951620);\"><td class=\"tabev0\"></td><td class=\"tabev0\"></td><td class=\"tabev0\"></td><td class=\"tabev6\"><b><i style=\"display:none;\">earthquake</i><a href=\"/Earthquake/earthquake.php?id=951620\">2021-02-22   13:10:34.5</a></b><i class=\"ago\" id=\"ago21\">2hr 53min ago</i></td><td class=\"tabev1\">38.16 </td><td class=\"tabev2\">N  </td><td class=\"tabev1\">118.08 </td><td class=\"tabev2\">W  </td><td class=\"tabev3\">3</td><td class=\"tabev5\" id=\"magtyp21\">ml</td><td class=\"tabev2\">2.3</td><td class=\"tb_region\" id=\"reg21\"> NEVADA</td><td class=\"comment updatetimeno\" id=\"upd21\" style=\"text-align:right;\">2021-02-22 13:14</td></tr>,\n",
       " <tr class=\"ligne1 normal\" id=\"951615\" onclick=\"go_details(event,951615);\"><td class=\"tabev0\"></td><td class=\"tabev0\"></td><td class=\"tabev0\"></td><td class=\"tabev6\"><b><i style=\"display:none;\">earthquake</i><a href=\"/Earthquake/earthquake.php?id=951615\">2021-02-22   12:43:41.0</a></b><i class=\"ago\" id=\"ago22\">3hr 20min ago</i></td><td class=\"tabev1\">36.68 </td><td class=\"tabev2\">N  </td><td class=\"tabev1\">121.30 </td><td class=\"tabev2\">W  </td><td class=\"tabev3\">4</td><td class=\"tabev5\" id=\"magtyp22\">Md</td><td class=\"tabev2\">2.0</td><td class=\"tb_region\" id=\"reg22\"> CENTRAL CALIFORNIA</td><td class=\"comment updatetimeno\" id=\"upd22\" style=\"text-align:right;\">2021-02-22 12:45</td></tr>,\n",
       " <tr class=\"ligne2 normal\" id=\"951616\" onclick=\"go_details(event,951616);\"><td class=\"tabev0\"></td><td class=\"tabev0\"></td><td class=\"tabev0\"></td><td class=\"tabev6\"><b><i style=\"display:none;\">earthquake</i><a href=\"/Earthquake/earthquake.php?id=951616\">2021-02-22   12:41:48.0</a></b><i class=\"ago\" id=\"ago23\">3hr 22min ago</i></td><td class=\"tabev1\">17.08 </td><td class=\"tabev2\">S  </td><td class=\"tabev1\">71.66 </td><td class=\"tabev2\">W  </td><td class=\"tabev3\">53</td><td class=\"tabev5\" id=\"magtyp23\"> M</td><td class=\"tabev2\">4.0</td><td class=\"tb_region\" id=\"reg23\"> NEAR COAST OF SOUTHERN PERU</td><td class=\"comment updatetimeno\" id=\"upd23\" style=\"text-align:right;\">2021-02-22 12:45</td></tr>,\n",
       " <tr class=\"ligne1 normal\" id=\"951619\" onclick=\"go_details(event,951619);\"><td class=\"tabev0\"></td><td class=\"tabev0\"></td><td class=\"tabev0\"></td><td class=\"tabev6\"><b><i style=\"display:none;\">earthquake</i><a href=\"/Earthquake/earthquake.php?id=951619\">2021-02-22   12:41:00.1</a></b><i class=\"ago\" id=\"ago24\">3hr 22min ago</i></td><td class=\"tabev1\">45.79 </td><td class=\"tabev2\">N  </td><td class=\"tabev1\">10.99 </td><td class=\"tabev2\">E  </td><td class=\"tabev3\">11</td><td class=\"tabev5\" id=\"magtyp24\">ML</td><td class=\"tabev2\">2.3</td><td class=\"tb_region\" id=\"reg24\"> NORTHERN ITALY</td><td class=\"comment updatetimeno\" id=\"upd24\" style=\"text-align:right;\">2021-02-22 13:29</td></tr>,\n",
       " <tr class=\"ligne2 normal\" id=\"951614\" onclick=\"go_details(event,951614);\"><td class=\"tabev0\"></td><td class=\"tabev0\"></td><td class=\"tabev0\"></td><td class=\"tabev6\"><b><i style=\"display:none;\">earthquake</i><a href=\"/Earthquake/earthquake.php?id=951614\">2021-02-22   12:38:01.6</a></b><i class=\"ago\" id=\"ago25\">3hr 25min ago</i></td><td class=\"tabev1\">31.33 </td><td class=\"tabev2\">S  </td><td class=\"tabev1\">178.65 </td><td class=\"tabev2\">E  </td><td class=\"tabev3\">340</td><td class=\"tabev5\" id=\"magtyp25\">M </td><td class=\"tabev2\">4.2</td><td class=\"tb_region\" id=\"reg25\"> KERMADEC ISLANDS REGION</td><td class=\"comment updatetimeno\" id=\"upd25\" style=\"text-align:right;\">2021-02-22 12:45</td></tr>,\n",
       " <tr class=\"ligne1 normal\" id=\"951609\" onclick=\"go_details(event,951609);\"><td class=\"tabev0\"></td><td class=\"tabev0\"></td><td class=\"tabev0\"><span class=\"intensity\" onclick=\"go_details(event,null,'https://www.emsc-csem.org/Earthquake/popup_intensmap.php?id=951609&amp;f=/FELTREPORTS/95/951609/IntensityMap.png');\" onmouseout=\"info_b2('notshow','');\" onmouseover=\"info_b2('show','See the &lt;b&gt; Intensity map&lt;/b&gt;');\" style=\"background-color:#FFFFFF;\">F</span></td><td class=\"tabev6\"><b><i style=\"display:none;\">earthquake</i><a href=\"/Earthquake/earthquake.php?id=951609\">2021-02-22   12:15:45.2</a></b><i class=\"ago\" id=\"ago26\">3hr 48min ago</i></td><td class=\"tabev1\">41.82 </td><td class=\"tabev2\">N  </td><td class=\"tabev1\">23.41 </td><td class=\"tabev2\">E  </td><td class=\"tabev3\">5</td><td class=\"tabev5\" id=\"magtyp26\">ML</td><td class=\"tabev2\">2.6</td><td class=\"tb_region\" id=\"reg26\"> BULGARIA</td><td class=\"comment updatetimeno\" id=\"upd26\" style=\"text-align:right;\">2021-02-22 13:29</td></tr>,\n",
       " <tr class=\"ligne2 normal\" id=\"951602\" onclick=\"go_details(event,951602);\"><td class=\"tabev0\"></td><td class=\"tabev0\"></td><td class=\"tabev0\"></td><td class=\"tabev6\"><b><i style=\"display:none;\">earthquake</i><a href=\"/Earthquake/earthquake.php?id=951602\">2021-02-22   12:09:00.1</a></b><i class=\"ago\" id=\"ago27\">3hr 54min ago</i></td><td class=\"tabev1\">32.39 </td><td class=\"tabev2\">N  </td><td class=\"tabev1\">115.22 </td><td class=\"tabev2\">W  </td><td class=\"tabev3\">10</td><td class=\"tabev5\" id=\"magtyp27\">Ml</td><td class=\"tabev2\">2.1</td><td class=\"tb_region\" id=\"reg27\"> BAJA CALIFORNIA, MEXICO</td><td class=\"comment updatetimeno\" id=\"upd27\" style=\"text-align:right;\">2021-02-22 12:12</td></tr>,\n",
       " <tr class=\"ligne1 normal\" id=\"951610\" onclick=\"go_details(event,951610);\"><td class=\"tabev0\" style=\"text-align:center;\"><a href=\"https://www.emsc-csem.org/Earthquake/Testimonies/comments.php?id=951610\" onmouseout=\"info_b2('notshow','');\" onmouseover=\"info_b2('show','See the &lt;b&gt;9 testimonies&lt;/b&gt; for this earthquake');\"><span class=\"\" style=\"vertical-align:middle;\">9</span></a></td><td class=\"tabev0\"></td><td class=\"tabev0\"><span class=\"intensity\" onclick=\"go_details(event,null,'https://www.emsc-csem.org/Earthquake/popup_intensmap.php?id=951610&amp;f=/FELTREPORTS/95/951610/IntensityMap.png');\" onmouseout=\"info_b2('notshow','');\" onmouseover=\"info_b2('show','See the &lt;b&gt; Intensity map&lt;/b&gt;');\" style=\"background-color:#00FFFF;\">IV</span></td><td class=\"tabev6\"><b><i style=\"display:none;\">earthquake</i><a href=\"/Earthquake/earthquake.php?id=951610\">2021-02-22   12:04:06.6</a></b><i class=\"ago\" id=\"ago28\">3hr 59min ago</i></td><td class=\"tabev1\">45.78 </td><td class=\"tabev2\">N  </td><td class=\"tabev1\">10.98 </td><td class=\"tabev2\">E  </td><td class=\"tabev3\">12</td><td class=\"tabev5\" id=\"magtyp28\">ML</td><td class=\"tabev2\">3.5</td><td class=\"tb_region\" id=\"reg28\"> NORTHERN ITALY</td><td class=\"comment updatetimeno\" id=\"upd28\" style=\"text-align:right;\">2021-02-22 12:21</td></tr>,\n",
       " <tr class=\"ligne2 normal\" id=\"951612\" onclick=\"go_details(event,951612);\"><td class=\"tabev0\"></td><td class=\"tabev0\"></td><td class=\"tabev0\"></td><td class=\"tabev6\"><b><i style=\"display:none;\">earthquake</i><a href=\"/Earthquake/earthquake.php?id=951612\">2021-02-22   12:03:58.0</a></b><i class=\"ago\" id=\"ago29\">4hr 00min ago</i></td><td class=\"tabev1\">39.80 </td><td class=\"tabev2\">S  </td><td class=\"tabev1\">71.94 </td><td class=\"tabev2\">W  </td><td class=\"tabev3\">8</td><td class=\"tabev5\" id=\"magtyp29\">ML</td><td class=\"tabev2\">2.8</td><td class=\"tb_region\" id=\"reg29\"> LOS LAGOS, CHILE</td><td class=\"comment updatetimeno\" id=\"upd29\" style=\"text-align:right;\">2021-02-22 12:25</td></tr>,\n",
       " <tr class=\"ligne1 normal\" id=\"951600\" onclick=\"go_details(event,951600);\"><td class=\"tabev0\"></td><td class=\"tabev0\"></td><td class=\"tabev0\"></td><td class=\"tabev6\"><b><i style=\"display:none;\">earthquake</i><a href=\"/Earthquake/earthquake.php?id=951600\">2021-02-22   11:50:06.0</a></b><i class=\"ago\" id=\"ago30\">4hr 13min ago</i></td><td class=\"tabev1\">45.79 </td><td class=\"tabev2\">N  </td><td class=\"tabev1\">7.78 </td><td class=\"tabev2\">E  </td><td class=\"tabev3\">8</td><td class=\"tabev5\" id=\"magtyp30\">ML</td><td class=\"tabev2\">1.5</td><td class=\"tb_region\" id=\"reg30\"> NORTHERN ITALY</td><td class=\"comment updatetimeno\" id=\"upd30\" style=\"text-align:right;\">2021-02-22 14:43</td></tr>,\n",
       " <tr class=\"ligne2 normal\" id=\"951599\" onclick=\"go_details(event,951599);\"><td class=\"tabev0\"></td><td class=\"tabev0\"></td><td class=\"tabev0\"></td><td class=\"tabev6\"><b><i style=\"display:none;\">earthquake</i><a href=\"/Earthquake/earthquake.php?id=951599\">2021-02-22   11:42:49.0</a></b><i class=\"ago\" id=\"ago31\">4hr 21min ago</i></td><td class=\"tabev1\">39.12 </td><td class=\"tabev2\">S  </td><td class=\"tabev1\">176.94 </td><td class=\"tabev2\">E  </td><td class=\"tabev3\">30</td><td class=\"tabev5\" id=\"magtyp31\">mb</td><td class=\"tabev2\">4.3</td><td class=\"tb_region\" id=\"reg31\"> NORTH ISLAND OF NEW ZEALAND</td><td class=\"comment updatetimeno\" id=\"upd31\" style=\"text-align:right;\">2021-02-22 13:28</td></tr>,\n",
       " <tr class=\"ligne1 normal\" id=\"951594\" onclick=\"go_details(event,951594);\"><td class=\"tabev0\"></td><td class=\"tabev0\"></td><td class=\"tabev0\"></td><td class=\"tabev6\"><b><i style=\"display:none;\">earthquake</i><a href=\"/Earthquake/earthquake.php?id=951594\">2021-02-22   11:10:36.4</a></b><i class=\"ago\" id=\"ago32\">4hr 53min ago</i></td><td class=\"tabev1\">19.35 </td><td class=\"tabev2\">N  </td><td class=\"tabev1\">155.13 </td><td class=\"tabev2\">W  </td><td class=\"tabev3\">13</td><td class=\"tabev5\" id=\"magtyp32\">ML</td><td class=\"tabev2\">2.6</td><td class=\"tb_region\" id=\"reg32\"> ISLAND OF HAWAII, HAWAII</td><td class=\"comment updatetimeno\" id=\"upd32\" style=\"text-align:right;\">2021-02-22 14:10</td></tr>,\n",
       " <tr class=\"ligne2 normal\" id=\"951595\" onclick=\"go_details(event,951595);\"><td class=\"tabev0\"></td><td class=\"tabev0\"></td><td class=\"tabev0\"></td><td class=\"tabev6\"><b><i style=\"display:none;\">earthquake</i><a href=\"/Earthquake/earthquake.php?id=951595\">2021-02-22   11:07:12.4</a></b><i class=\"ago\" id=\"ago33\">4hr 56min ago</i></td><td class=\"tabev1\">40.04 </td><td class=\"tabev2\">N  </td><td class=\"tabev1\">15.97 </td><td class=\"tabev2\">E  </td><td class=\"tabev3\">10</td><td class=\"tabev5\" id=\"magtyp33\">ML</td><td class=\"tabev2\">2.1</td><td class=\"tb_region\" id=\"reg33\"> SOUTHERN ITALY</td><td class=\"comment updatetimeno\" id=\"upd33\" style=\"text-align:right;\">2021-02-22 11:16</td></tr>,\n",
       " <tr class=\"ligne1 normal\" id=\"951592\" onclick=\"go_details(event,951592);\"><td class=\"tabev0\"></td><td class=\"tabev0\"></td><td class=\"tabev0\"></td><td class=\"tabev6\"><b><i style=\"display:none;\">earthquake</i><a href=\"/Earthquake/earthquake.php?id=951592\">2021-02-22   10:55:52.0</a></b><i class=\"ago\" id=\"ago34\">5hr 08min ago</i></td><td class=\"tabev1\">35.71 </td><td class=\"tabev2\">N  </td><td class=\"tabev1\">117.58 </td><td class=\"tabev2\">W  </td><td class=\"tabev3\">7</td><td class=\"tabev5\" id=\"magtyp34\">Ml</td><td class=\"tabev2\">2.0</td><td class=\"tb_region\" id=\"reg34\"> SOUTHERN CALIFORNIA</td><td class=\"comment updatetimeno\" id=\"upd34\" style=\"text-align:right;\">2021-02-22 10:58</td></tr>,\n",
       " <tr class=\"ligne2 normal\" id=\"951635\" onclick=\"go_details(event,951635);\"><td class=\"tabev0\"></td><td class=\"tabev0\"></td><td class=\"tabev0\"></td><td class=\"tabev6\"><b><i style=\"display:none;\">earthquake</i><a href=\"/Earthquake/earthquake.php?id=951635\">2021-02-22   10:47:10.0</a></b><i class=\"ago\" id=\"ago35\">5hr 16min ago</i></td><td class=\"tabev1\">16.04 </td><td class=\"tabev2\">N  </td><td class=\"tabev1\">94.64 </td><td class=\"tabev2\">W  </td><td class=\"tabev3\">73</td><td class=\"tabev5\" id=\"magtyp35\"> M</td><td class=\"tabev2\">3.5</td><td class=\"tb_region\" id=\"reg35\"> OFFSHORE OAXACA, MEXICO</td><td class=\"comment updatetimeno\" id=\"upd35\" style=\"text-align:right;\">2021-02-22 14:05</td></tr>,\n",
       " <tr class=\"ligne1 normal\" id=\"951636\" onclick=\"go_details(event,951636);\"><td class=\"tabev0\"></td><td class=\"tabev0\"></td><td class=\"tabev0\"></td><td class=\"tabev6\"><b><i style=\"display:none;\">earthquake</i><a href=\"/Earthquake/earthquake.php?id=951636\">2021-02-22   10:46:00.0</a></b><i class=\"ago\" id=\"ago36\">5hr 17min ago</i></td><td class=\"tabev1\">17.99 </td><td class=\"tabev2\">N  </td><td class=\"tabev1\">100.41 </td><td class=\"tabev2\">W  </td><td class=\"tabev3\">56</td><td class=\"tabev5\" id=\"magtyp36\"> M</td><td class=\"tabev2\">3.5</td><td class=\"tb_region\" id=\"reg36\"> GUERRERO, MEXICO</td><td class=\"comment updatetimeno\" id=\"upd36\" style=\"text-align:right;\">2021-02-22 14:05</td></tr>,\n",
       " <tr class=\"ligne2 normal\" id=\"951588\" onclick=\"go_details(event,951588);\"><td class=\"tabev0\"></td><td class=\"tabev0\"></td><td class=\"tabev0\"></td><td class=\"tabev6\"><b><i style=\"display:none;\">earthquake</i><a href=\"/Earthquake/earthquake.php?id=951588\">2021-02-22   10:45:10.2</a></b><i class=\"ago\" id=\"ago37\">5hr 18min ago</i></td><td class=\"tabev1\">36.96 </td><td class=\"tabev2\">N  </td><td class=\"tabev1\">98.09 </td><td class=\"tabev2\">W  </td><td class=\"tabev3\">7</td><td class=\"tabev5\" id=\"magtyp37\">ML</td><td class=\"tabev2\">2.0</td><td class=\"tb_region\" id=\"reg37\"> OKLAHOMA</td><td class=\"comment updatetimeno\" id=\"upd37\" style=\"text-align:right;\">2021-02-22 13:28</td></tr>,\n",
       " <tr class=\"ligne1 normal\" id=\"951589\" onclick=\"go_details(event,951589);\"><td class=\"tabev0\"></td><td class=\"tabev0\"></td><td class=\"tabev0\"></td><td class=\"tabev6\"><b><i style=\"display:none;\">earthquake</i><a href=\"/Earthquake/earthquake.php?id=951589\">2021-02-22   10:41:59.0</a></b><i class=\"ago\" id=\"ago38\">5hr 21min ago</i></td><td class=\"tabev1\">29.95 </td><td class=\"tabev2\">S  </td><td class=\"tabev1\">68.66 </td><td class=\"tabev2\">W  </td><td class=\"tabev3\">107</td><td class=\"tabev5\" id=\"magtyp38\"> M</td><td class=\"tabev2\">3.1</td><td class=\"tb_region\" id=\"reg38\"> SAN JUAN, ARGENTINA</td><td class=\"comment updatetimeno\" id=\"upd38\" style=\"text-align:right;\">2021-02-22 10:51</td></tr>,\n",
       " <tr class=\"ligne2 normal\" id=\"951637\" onclick=\"go_details(event,951637);\"><td class=\"tabev0\"></td><td class=\"tabev0\"></td><td class=\"tabev0\"></td><td class=\"tabev6\"><b><i style=\"display:none;\">earthquake</i><a href=\"/Earthquake/earthquake.php?id=951637\">2021-02-22   10:22:10.0</a></b><i class=\"ago\" id=\"ago39\">5hr 41min ago</i></td><td class=\"tabev1\">17.08 </td><td class=\"tabev2\">N  </td><td class=\"tabev1\">100.28 </td><td class=\"tabev2\">W  </td><td class=\"tabev3\">44</td><td class=\"tabev5\" id=\"magtyp39\"> M</td><td class=\"tabev2\">3.5</td><td class=\"tb_region\" id=\"reg39\"> GUERRERO, MEXICO</td><td class=\"comment updatetimeno\" id=\"upd39\" style=\"text-align:right;\">2021-02-22 14:05</td></tr>,\n",
       " <tr class=\"ligne1 normal\" id=\"951587\" onclick=\"go_details(event,951587);\"><td class=\"tabev0\"></td><td class=\"tabev0\"></td><td class=\"tabev0\"></td><td class=\"tabev6\"><b><i style=\"display:none;\">earthquake</i><a href=\"/Earthquake/earthquake.php?id=951587\">2021-02-22   10:21:50.4</a></b><i class=\"ago\" id=\"ago40\">5hr 42min ago</i></td><td class=\"tabev1\">18.43 </td><td class=\"tabev2\">N  </td><td class=\"tabev1\">73.52 </td><td class=\"tabev2\">W  </td><td class=\"tabev3\">5</td><td class=\"tabev5\" id=\"magtyp40\">M </td><td class=\"tabev2\">2.8</td><td class=\"tb_region\" id=\"reg40\"> HAITI REGION</td><td class=\"comment updatetimeno\" id=\"upd40\" style=\"text-align:right;\">2021-02-22 10:48</td></tr>,\n",
       " <tr class=\"ligne2 normal\" id=\"951584\" onclick=\"go_details(event,951584);\"><td class=\"tabev0\"></td><td class=\"tabev0\"></td><td class=\"tabev0\"></td><td class=\"tabev6\"><b><i style=\"display:none;\">earthquake</i><a href=\"/Earthquake/earthquake.php?id=951584\">2021-02-22   10:19:16.9</a></b><i class=\"ago\" id=\"ago41\">5hr 44min ago</i></td><td class=\"tabev1\">34.39 </td><td class=\"tabev2\">N  </td><td class=\"tabev1\">97.40 </td><td class=\"tabev2\">W  </td><td class=\"tabev3\">2</td><td class=\"tabev5\" id=\"magtyp41\">ML</td><td class=\"tabev2\">2.1</td><td class=\"tb_region\" id=\"reg41\"> OKLAHOMA</td><td class=\"comment updatetimeno\" id=\"upd41\" style=\"text-align:right;\">2021-02-22 10:23</td></tr>,\n",
       " <tr class=\"ligne1 normal\" id=\"951581\" onclick=\"go_details(event,951581);\"><td class=\"tabev0\"></td><td class=\"tabev0\"></td><td class=\"tabev0\"></td><td class=\"tabev6\"><b><i style=\"display:none;\">earthquake</i><a href=\"/Earthquake/earthquake.php?id=951581\">2021-02-22   10:01:51.2</a></b><i class=\"ago\" id=\"ago42\">6hr 02min ago</i></td><td class=\"tabev1\">35.88 </td><td class=\"tabev2\">N  </td><td class=\"tabev1\">117.68 </td><td class=\"tabev2\">W  </td><td class=\"tabev3\">4</td><td class=\"tabev5\" id=\"magtyp42\">Ml</td><td class=\"tabev2\">2.1</td><td class=\"tb_region\" id=\"reg42\"> CENTRAL CALIFORNIA</td><td class=\"comment updatetimeno\" id=\"upd42\" style=\"text-align:right;\">2021-02-22 10:04</td></tr>,\n",
       " <tr class=\"ligne2 normal\" id=\"951638\" onclick=\"go_details(event,951638);\"><td class=\"tabev0\"></td><td class=\"tabev0\"></td><td class=\"tabev0\"></td><td class=\"tabev6\"><b><i style=\"display:none;\">earthquake</i><a href=\"/Earthquake/earthquake.php?id=951638\">2021-02-22   10:01:34.0</a></b><i class=\"ago\" id=\"ago43\">6hr 02min ago</i></td><td class=\"tabev1\">16.22 </td><td class=\"tabev2\">N  </td><td class=\"tabev1\">98.04 </td><td class=\"tabev2\">W  </td><td class=\"tabev3\">4</td><td class=\"tabev5\" id=\"magtyp43\"> M</td><td class=\"tabev2\">3.6</td><td class=\"tb_region\" id=\"reg43\"> OAXACA, MEXICO</td><td class=\"comment updatetimeno\" id=\"upd43\" style=\"text-align:right;\">2021-02-22 14:05</td></tr>,\n",
       " <tr class=\"ligne1 normal\" id=\"951624\" onclick=\"go_details(event,951624);\"><td class=\"tabev0\"></td><td class=\"tabev0\"></td><td class=\"tabev0\"></td><td class=\"tabev6\"><b><i style=\"display:none;\">earthquake</i><a href=\"/Earthquake/earthquake.php?id=951624\">2021-02-22   09:53:30.0</a></b><i class=\"ago\" id=\"ago44\">6hr 10min ago</i></td><td class=\"tabev1\">10.68 </td><td class=\"tabev2\">N  </td><td class=\"tabev1\">86.19 </td><td class=\"tabev2\">W  </td><td class=\"tabev3\">14</td><td class=\"tabev5\" id=\"magtyp44\"> M</td><td class=\"tabev2\">4.0</td><td class=\"tb_region\" id=\"reg44\"> OFF COAST OF COSTA RICA</td><td class=\"comment updatetimeno\" id=\"upd44\" style=\"text-align:right;\">2021-02-22 13:35</td></tr>,\n",
       " <tr class=\"ligne2 normal\" id=\"951639\" onclick=\"go_details(event,951639);\"><td class=\"tabev0\"></td><td class=\"tabev0\"></td><td class=\"tabev0\"></td><td class=\"tabev6\"><b><i style=\"display:none;\">earthquake</i><a href=\"/Earthquake/earthquake.php?id=951639\">2021-02-22   09:50:43.0</a></b><i class=\"ago\" id=\"ago45\">6hr 13min ago</i></td><td class=\"tabev1\">16.22 </td><td class=\"tabev2\">N  </td><td class=\"tabev1\">98.05 </td><td class=\"tabev2\">W  </td><td class=\"tabev3\">4</td><td class=\"tabev5\" id=\"magtyp45\"> M</td><td class=\"tabev2\">3.5</td><td class=\"tb_region\" id=\"reg45\"> OAXACA, MEXICO</td><td class=\"comment updatetimeno\" id=\"upd45\" style=\"text-align:right;\">2021-02-22 14:06</td></tr>,\n",
       " <tr class=\"ligne1 normal\" id=\"951593\" onclick=\"go_details(event,951593);\"><td class=\"tabev0\"></td><td class=\"tabev0\"></td><td class=\"tabev0\"></td><td class=\"tabev6\"><b><i style=\"display:none;\">earthquake</i><a href=\"/Earthquake/earthquake.php?id=951593\">2021-02-22   09:45:41.0</a></b><i class=\"ago\" id=\"ago46\">6hr 18min ago</i></td><td class=\"tabev1\">19.60 </td><td class=\"tabev2\">N  </td><td class=\"tabev1\">70.47 </td><td class=\"tabev2\">W  </td><td class=\"tabev3\">23</td><td class=\"tabev5\" id=\"magtyp46\"> M</td><td class=\"tabev2\">2.5</td><td class=\"tb_region\" id=\"reg46\"> DOMINICAN REPUBLIC</td><td class=\"comment updatetimeno\" id=\"upd46\" style=\"text-align:right;\">2021-02-22 11:01</td></tr>,\n",
       " <tr class=\"ligne2 normal\" id=\"951641\" onclick=\"go_details(event,951641);\"><td class=\"tabev0\"></td><td class=\"tabev0\"></td><td class=\"tabev0\"></td><td class=\"tabev6\"><b><i style=\"display:none;\">earthquake</i><a href=\"/Earthquake/earthquake.php?id=951641\">2021-02-22   09:45:24.0</a></b><i class=\"ago\" id=\"ago47\">6hr 18min ago</i></td><td class=\"tabev1\">16.19 </td><td class=\"tabev2\">N  </td><td class=\"tabev1\">98.07 </td><td class=\"tabev2\">W  </td><td class=\"tabev3\">5</td><td class=\"tabev5\" id=\"magtyp47\"> M</td><td class=\"tabev2\">3.8</td><td class=\"tb_region\" id=\"reg47\"> OAXACA, MEXICO</td><td class=\"comment updatetimeno\" id=\"upd47\" style=\"text-align:right;\">2021-02-22 14:06</td></tr>,\n",
       " <tr class=\"ligne1 normal\" id=\"951578\" onclick=\"go_details(event,951578);\"><td class=\"tabev0\"></td><td class=\"tabev0\"></td><td class=\"tabev0\"></td><td class=\"tabev6\"><b><i style=\"display:none;\">earthquake</i><a href=\"/Earthquake/earthquake.php?id=951578\">2021-02-22   09:40:02.2</a></b><i class=\"ago\" id=\"ago48\">6hr 23min ago</i></td><td class=\"tabev1\">35.88 </td><td class=\"tabev2\">N  </td><td class=\"tabev1\">117.69 </td><td class=\"tabev2\">W  </td><td class=\"tabev3\">0</td><td class=\"tabev5\" id=\"magtyp48\">Ml</td><td class=\"tabev2\">2.2</td><td class=\"tb_region\" id=\"reg48\"> CENTRAL CALIFORNIA</td><td class=\"comment updatetimeno\" id=\"upd48\" style=\"text-align:right;\">2021-02-22 09:43</td></tr>,\n",
       " <tr class=\"ligne2 normal\" id=\"951640\" onclick=\"go_details(event,951640);\"><td class=\"tabev0\"></td><td class=\"tabev0\"></td><td class=\"tabev0\"></td><td class=\"tabev6\"><b><i style=\"display:none;\">earthquake</i><a href=\"/Earthquake/earthquake.php?id=951640\">2021-02-22   09:35:06.0</a></b><i class=\"ago\" id=\"ago49\">6hr 28min ago</i></td><td class=\"tabev1\">17.30 </td><td class=\"tabev2\">N  </td><td class=\"tabev1\">94.45 </td><td class=\"tabev2\">W  </td><td class=\"tabev3\">145</td><td class=\"tabev5\" id=\"magtyp49\"> M</td><td class=\"tabev2\">3.9</td><td class=\"tb_region\" id=\"reg49\"> VERACRUZ, MEXICO</td><td class=\"comment updatetimeno\" id=\"upd49\" style=\"text-align:right;\">2021-02-22 14:06</td></tr>]"
      ]
     },
     "execution_count": 222,
     "metadata": {},
     "output_type": "execute_result"
    }
   ],
   "source": [
    "elems = soup.select(\"tbody > tr\")\n",
    "elems"
   ]
  },
  {
   "cell_type": "code",
   "execution_count": 225,
   "metadata": {},
   "outputs": [],
   "source": [
    "names = []\n",
    "for elem in elems:\n",
    "    names.append(elem.find('td',{'class':'tb_region'}).get_text())"
   ]
  },
  {
   "cell_type": "code",
   "execution_count": 254,
   "metadata": {},
   "outputs": [],
   "source": [
    "mags = []\n",
    "rmags = []\n",
    "for elem in elems:\n",
    "    mags.append(elem.select('td:nth-child(11)'))\n",
    "    \n",
    "for mag in mags:\n",
    "     rmags.append(mag[0].get_text())\n",
    "    "
   ]
  },
  {
   "cell_type": "code",
   "execution_count": 256,
   "metadata": {},
   "outputs": [
    {
     "data": {
      "text/plain": [
       "['2.6',\n",
       " '2.5',\n",
       " '4.6',\n",
       " '5.2',\n",
       " '4.4',\n",
       " '4.2',\n",
       " '1.9',\n",
       " '2.9',\n",
       " '4.4',\n",
       " '4.1',\n",
       " '1.5',\n",
       " '2.3',\n",
       " '3.1',\n",
       " '4.5',\n",
       " '2.2',\n",
       " '2.7',\n",
       " '2.0',\n",
       " '3.8',\n",
       " '2.3',\n",
       " '4.9',\n",
       " '3.0',\n",
       " '2.3',\n",
       " '2.0',\n",
       " '4.0',\n",
       " '2.3',\n",
       " '4.2',\n",
       " '2.6',\n",
       " '2.1',\n",
       " '3.5',\n",
       " '2.8',\n",
       " '1.5',\n",
       " '4.3',\n",
       " '2.6',\n",
       " '2.1',\n",
       " '2.0',\n",
       " '3.5',\n",
       " '3.5',\n",
       " '2.0',\n",
       " '3.1',\n",
       " '3.5',\n",
       " '2.8',\n",
       " '2.1',\n",
       " '2.1',\n",
       " '3.6',\n",
       " '4.0',\n",
       " '3.5',\n",
       " '2.5',\n",
       " '3.8',\n",
       " '2.2',\n",
       " '3.9']"
      ]
     },
     "execution_count": 256,
     "metadata": {},
     "output_type": "execute_result"
    }
   ],
   "source": [
    "rmags"
   ]
  },
  {
   "cell_type": "code",
   "execution_count": 226,
   "metadata": {},
   "outputs": [
    {
     "data": {
      "text/plain": [
       "['\\xa0ARUNACHAL PRADESH, INDIA',\n",
       " '\\xa0ISLAND OF HAWAII, HAWAII',\n",
       " '\\xa0NEAR COAST OF CENTRAL PERU',\n",
       " '\\xa0OFFSHORE CHIAPAS, MEXICO',\n",
       " '\\xa0DOMINICAN REPUBLIC',\n",
       " '\\xa0SOUTHERN XINJIANG, CHINA',\n",
       " '\\xa0CROATIA',\n",
       " '\\xa0SUMBA REGION, INDONESIA',\n",
       " '\\xa0KEPULAUAN TALAUD, INDONESIA',\n",
       " '\\xa0OFFSHORE OAXACA, MEXICO',\n",
       " '\\xa0SPAIN',\n",
       " '\\xa0DODECANESE IS.-TURKEY BORDER REG',\n",
       " '\\xa0DODECANESE IS.-TURKEY BORDER REG',\n",
       " '\\xa0OFF COAST OF WASHINGTON',\n",
       " '\\xa0OKLAHOMA',\n",
       " '\\xa0SUMBAWA REGION, INDONESIA',\n",
       " '\\xa0DODECANESE ISLANDS, GREECE',\n",
       " '\\xa0CENTRAL ALASKA',\n",
       " '\\xa0NORTHERN ITALY',\n",
       " '\\xa0TONGA',\n",
       " '\\xa0JAVA, INDONESIA',\n",
       " '\\xa0NEVADA',\n",
       " '\\xa0CENTRAL CALIFORNIA',\n",
       " '\\xa0NEAR COAST OF SOUTHERN PERU',\n",
       " '\\xa0NORTHERN ITALY',\n",
       " '\\xa0KERMADEC ISLANDS REGION',\n",
       " '\\xa0BULGARIA',\n",
       " '\\xa0BAJA CALIFORNIA, MEXICO',\n",
       " '\\xa0NORTHERN ITALY',\n",
       " '\\xa0LOS LAGOS, CHILE',\n",
       " '\\xa0NORTHERN ITALY',\n",
       " '\\xa0NORTH ISLAND OF NEW ZEALAND',\n",
       " '\\xa0ISLAND OF HAWAII, HAWAII',\n",
       " '\\xa0SOUTHERN ITALY',\n",
       " '\\xa0SOUTHERN CALIFORNIA',\n",
       " '\\xa0OFFSHORE OAXACA, MEXICO',\n",
       " '\\xa0GUERRERO, MEXICO',\n",
       " '\\xa0OKLAHOMA',\n",
       " '\\xa0SAN JUAN, ARGENTINA',\n",
       " '\\xa0GUERRERO, MEXICO',\n",
       " '\\xa0HAITI REGION',\n",
       " '\\xa0OKLAHOMA',\n",
       " '\\xa0CENTRAL CALIFORNIA',\n",
       " '\\xa0OAXACA, MEXICO',\n",
       " '\\xa0OFF COAST OF COSTA RICA',\n",
       " '\\xa0OAXACA, MEXICO',\n",
       " '\\xa0DOMINICAN REPUBLIC',\n",
       " '\\xa0OAXACA, MEXICO',\n",
       " '\\xa0CENTRAL CALIFORNIA',\n",
       " '\\xa0VERACRUZ, MEXICO']"
      ]
     },
     "execution_count": 226,
     "metadata": {},
     "output_type": "execute_result"
    }
   ],
   "source": [
    "names"
   ]
  },
  {
   "cell_type": "code",
   "execution_count": null,
   "metadata": {},
   "outputs": [],
   "source": [
    "dataf = pd.DataFrame"
   ]
  }
 ],
 "metadata": {
  "kernelspec": {
   "display_name": "Python 3",
   "language": "python",
   "name": "python3"
  },
  "language_info": {
   "codemirror_mode": {
    "name": "ipython",
    "version": 3
   },
   "file_extension": ".py",
   "mimetype": "text/x-python",
   "name": "python",
   "nbconvert_exporter": "python",
   "pygments_lexer": "ipython3",
   "version": "3.8.5"
  }
 },
 "nbformat": 4,
 "nbformat_minor": 4
}
